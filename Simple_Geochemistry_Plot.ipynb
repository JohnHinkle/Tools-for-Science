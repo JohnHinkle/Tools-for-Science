{
 "cells": [
  {
   "cell_type": "markdown",
   "metadata": {},
   "source": [
    "# Simple Geochemistry Plot\n",
    "### This code plots geochemistry data against depth \n",
    "#### Uses Pandas, NumPy, and Matplotlib"
   ]
  },
  {
   "cell_type": "code",
   "execution_count": null,
   "metadata": {},
   "outputs": [],
   "source": [
    "import numpy as np\n",
    "import pandas as pd\n",
    "import matplotlib.pyplot as plt\n",
    "from matplotlib import style\n",
    "plt.style.use('seaborn-poster')\n",
    "plt.rcParams.update({'font.family':'sans-serif'})"
   ]
  },
  {
   "cell_type": "markdown",
   "metadata": {},
   "source": [
    "#### Make sure to tidy up your csv file before working with it\n",
    "##### May need to change encoding for data to work "
   ]
  },
  {
   "cell_type": "code",
   "execution_count": null,
   "metadata": {},
   "outputs": [],
   "source": [
    "t = pd.read_csv(\"tidied_data.csv\", encoding = 'unicode_escape')"
   ]
  },
  {
   "cell_type": "markdown",
   "metadata": {},
   "source": [
    "#### Tells you the data type in your columns"
   ]
  },
  {
   "cell_type": "code",
   "execution_count": null,
   "metadata": {},
   "outputs": [],
   "source": [
    "t['Geochemistry (conc.)'].dtype, t['Depth (mbsf)'].dtype"
   ]
  },
  {
   "cell_type": "markdown",
   "metadata": {},
   "source": [
    "#### If your data type is not a float, you need to convert it"
   ]
  },
  {
   "cell_type": "code",
   "execution_count": null,
   "metadata": {},
   "outputs": [],
   "source": [
    "t['Geochemistry (conc.)'] = t['Geochemistry (conc.)'].astype(float)\n",
    "t['Depth (mbsf)'] = t['Depth (mbsf)'].astype(float)"
   ]
  },
  {
   "cell_type": "markdown",
   "metadata": {},
   "source": [
    "#### Converts columns into ndarrays"
   ]
  },
  {
   "cell_type": "code",
   "execution_count": null,
   "metadata": {},
   "outputs": [],
   "source": [
    "x = t[['Geochemistry (conc.)']].to_numpy()\n",
    "y = t[['Depth (mbsf)']].to_numpy()"
   ]
  },
  {
   "cell_type": "markdown",
   "metadata": {},
   "source": [
    "### Creates plot"
   ]
  },
  {
   "cell_type": "code",
   "execution_count": null,
   "metadata": {},
   "outputs": [],
   "source": [
    "# inverts the y-axis so that zero is at the top\n",
    "ax = plt.gca()\n",
    "ax.invert_yaxis()\n",
    "\n",
    "# use to alter your x and y-axis values\n",
    "ax.set_ylim([,])\n",
    "ax.set_xlim([,])\n",
    "\n",
    "# plots each value with a circle, connected by a dotted line\n",
    "plt.plot(x, y,linewidth=2,linestyle='dotted', marker='o',color='lightgreen', mfc='forestgreen', label = 'label')\n",
    "\n",
    "# creates the title\n",
    "plt.title('Site XXXX', fontname='arial', fontweight='bold', fontsize=22, y=0)\n",
    "\n",
    "# creates the x-axis label\n",
    "plt.xlabel('Geochemistry (concentration)', fontname='helvetica')\n",
    "\n",
    "# creates the y-axis label, usually 'Depth (mbsf)'\n",
    "plt.ylabel('Depth (mbsf)', fontname='helvetica')\n",
    "\n",
    "# places the x-axis label at the top\n",
    "ax.xaxis.set_label_position('top')\n",
    "\n",
    "# places the x-axis tick marks at the top\n",
    "ax.xaxis.tick_top()\n",
    "\n",
    "# shows the plot\n",
    "plt.show()"
   ]
  }
 ],
 "metadata": {
  "kernelspec": {
   "display_name": "Python 3",
   "language": "python",
   "name": "python3"
  },
  "language_info": {
   "codemirror_mode": {
    "name": "ipython",
    "version": 3
   },
   "file_extension": ".py",
   "mimetype": "text/x-python",
   "name": "python",
   "nbconvert_exporter": "python",
   "pygments_lexer": "ipython3",
   "version": "3.8.5"
  }
 },
 "nbformat": 4,
 "nbformat_minor": 4
}
